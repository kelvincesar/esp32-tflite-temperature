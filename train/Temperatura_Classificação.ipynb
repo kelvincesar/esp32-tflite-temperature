{
  "nbformat": 4,
  "nbformat_minor": 0,
  "metadata": {
    "colab": {
      "provenance": []
    },
    "kernelspec": {
      "name": "python3",
      "display_name": "Python 3"
    },
    "language_info": {
      "name": "python"
    }
  },
  "cells": [
    {
      "cell_type": "code",
      "execution_count": 1,
      "metadata": {
        "id": "Dn_5SV15sMle"
      },
      "outputs": [],
      "source": [
        "import pandas as pd\n",
        "import requests\n",
        "MODEL_NAME = \"temp_model\""
      ]
    },
    {
      "cell_type": "markdown",
      "source": [
        "## Requisição de medições de temperatura\n",
        "\n",
        "Site: \n",
        "https://open-meteo.com/\n",
        "\n",
        "Exemplo retirado do site:\n",
        "```shell\n",
        "curl \"https://archive-api.open-meteo.com/v1/era5?latitude=-26.49&longitude=-49.07&start_date=2022-01-01&end_date=2022-12-31&hourly=temperature_2m\"\n",
        "```"
      ],
      "metadata": {
        "id": "fs_AgH5OwYxv"
      }
    },
    {
      "cell_type": "code",
      "source": [
        "import requests\n",
        "url = \"https://archive-api.open-meteo.com/v1/era5\"\n",
        "# Jaraguá do sul - Latitude: -26.49, Longitude: -49.07\n",
        "params = {\n",
        "    \"latitude\": -26.49,\n",
        "    \"longitude\": -49.07,       \n",
        "    \"start_date\": \"2022-01-01\",\n",
        "    \"end_date\": \"2022-12-31\",\n",
        "    \"hourly\": \"temperature_2m\"\n",
        "}\n",
        "\n",
        "response = requests.get(url, params=params)\n",
        "\n",
        "if response.status_code == 200:\n",
        "    data = response.json()\n",
        "    print(\"Requisição Ok\", data.keys())\n",
        "    df = pd.DataFrame(data[\"hourly\"])\n",
        "else:\n",
        "    print(\"Error:\", response.status_code, response.text)"
      ],
      "metadata": {
        "colab": {
          "base_uri": "https://localhost:8080/"
        },
        "id": "KrBShk-uwWp_",
        "outputId": "fa6fc82b-7d3d-4f57-9ab4-06ee0dd315eb"
      },
      "execution_count": 2,
      "outputs": [
        {
          "output_type": "stream",
          "name": "stdout",
          "text": [
            "Requisição Ok dict_keys(['latitude', 'longitude', 'generationtime_ms', 'utc_offset_seconds', 'timezone', 'timezone_abbreviation', 'elevation', 'hourly_units', 'hourly'])\n"
          ]
        }
      ]
    },
    {
      "cell_type": "code",
      "source": [
        "# Modifica nome da coluna\n",
        "df = df.rename({\"temperature_2m\": \"temperatura\"}, axis='columns')\n",
        "# Visualização inicial\n",
        "df.describe()"
      ],
      "metadata": {
        "colab": {
          "base_uri": "https://localhost:8080/",
          "height": 300
        },
        "id": "vhNXnKG4yJmX",
        "outputId": "1bc2387c-6a37-4888-91ed-7cd404b5a6d6"
      },
      "execution_count": 3,
      "outputs": [
        {
          "output_type": "execute_result",
          "data": {
            "text/plain": [
              "       temperatura\n",
              "count  8760.000000\n",
              "mean     20.072283\n",
              "std       4.491420\n",
              "min       6.000000\n",
              "25%      16.700000\n",
              "50%      20.000000\n",
              "75%      23.200000\n",
              "max      33.200000"
            ],
            "text/html": [
              "\n",
              "  <div id=\"df-9bbaecfa-fe6b-4c46-881e-608652d0d722\">\n",
              "    <div class=\"colab-df-container\">\n",
              "      <div>\n",
              "<style scoped>\n",
              "    .dataframe tbody tr th:only-of-type {\n",
              "        vertical-align: middle;\n",
              "    }\n",
              "\n",
              "    .dataframe tbody tr th {\n",
              "        vertical-align: top;\n",
              "    }\n",
              "\n",
              "    .dataframe thead th {\n",
              "        text-align: right;\n",
              "    }\n",
              "</style>\n",
              "<table border=\"1\" class=\"dataframe\">\n",
              "  <thead>\n",
              "    <tr style=\"text-align: right;\">\n",
              "      <th></th>\n",
              "      <th>temperatura</th>\n",
              "    </tr>\n",
              "  </thead>\n",
              "  <tbody>\n",
              "    <tr>\n",
              "      <th>count</th>\n",
              "      <td>8760.000000</td>\n",
              "    </tr>\n",
              "    <tr>\n",
              "      <th>mean</th>\n",
              "      <td>20.072283</td>\n",
              "    </tr>\n",
              "    <tr>\n",
              "      <th>std</th>\n",
              "      <td>4.491420</td>\n",
              "    </tr>\n",
              "    <tr>\n",
              "      <th>min</th>\n",
              "      <td>6.000000</td>\n",
              "    </tr>\n",
              "    <tr>\n",
              "      <th>25%</th>\n",
              "      <td>16.700000</td>\n",
              "    </tr>\n",
              "    <tr>\n",
              "      <th>50%</th>\n",
              "      <td>20.000000</td>\n",
              "    </tr>\n",
              "    <tr>\n",
              "      <th>75%</th>\n",
              "      <td>23.200000</td>\n",
              "    </tr>\n",
              "    <tr>\n",
              "      <th>max</th>\n",
              "      <td>33.200000</td>\n",
              "    </tr>\n",
              "  </tbody>\n",
              "</table>\n",
              "</div>\n",
              "      <button class=\"colab-df-convert\" onclick=\"convertToInteractive('df-9bbaecfa-fe6b-4c46-881e-608652d0d722')\"\n",
              "              title=\"Convert this dataframe to an interactive table.\"\n",
              "              style=\"display:none;\">\n",
              "        \n",
              "  <svg xmlns=\"http://www.w3.org/2000/svg\" height=\"24px\"viewBox=\"0 0 24 24\"\n",
              "       width=\"24px\">\n",
              "    <path d=\"M0 0h24v24H0V0z\" fill=\"none\"/>\n",
              "    <path d=\"M18.56 5.44l.94 2.06.94-2.06 2.06-.94-2.06-.94-.94-2.06-.94 2.06-2.06.94zm-11 1L8.5 8.5l.94-2.06 2.06-.94-2.06-.94L8.5 2.5l-.94 2.06-2.06.94zm10 10l.94 2.06.94-2.06 2.06-.94-2.06-.94-.94-2.06-.94 2.06-2.06.94z\"/><path d=\"M17.41 7.96l-1.37-1.37c-.4-.4-.92-.59-1.43-.59-.52 0-1.04.2-1.43.59L10.3 9.45l-7.72 7.72c-.78.78-.78 2.05 0 2.83L4 21.41c.39.39.9.59 1.41.59.51 0 1.02-.2 1.41-.59l7.78-7.78 2.81-2.81c.8-.78.8-2.07 0-2.86zM5.41 20L4 18.59l7.72-7.72 1.47 1.35L5.41 20z\"/>\n",
              "  </svg>\n",
              "      </button>\n",
              "      \n",
              "  <style>\n",
              "    .colab-df-container {\n",
              "      display:flex;\n",
              "      flex-wrap:wrap;\n",
              "      gap: 12px;\n",
              "    }\n",
              "\n",
              "    .colab-df-convert {\n",
              "      background-color: #E8F0FE;\n",
              "      border: none;\n",
              "      border-radius: 50%;\n",
              "      cursor: pointer;\n",
              "      display: none;\n",
              "      fill: #1967D2;\n",
              "      height: 32px;\n",
              "      padding: 0 0 0 0;\n",
              "      width: 32px;\n",
              "    }\n",
              "\n",
              "    .colab-df-convert:hover {\n",
              "      background-color: #E2EBFA;\n",
              "      box-shadow: 0px 1px 2px rgba(60, 64, 67, 0.3), 0px 1px 3px 1px rgba(60, 64, 67, 0.15);\n",
              "      fill: #174EA6;\n",
              "    }\n",
              "\n",
              "    [theme=dark] .colab-df-convert {\n",
              "      background-color: #3B4455;\n",
              "      fill: #D2E3FC;\n",
              "    }\n",
              "\n",
              "    [theme=dark] .colab-df-convert:hover {\n",
              "      background-color: #434B5C;\n",
              "      box-shadow: 0px 1px 3px 1px rgba(0, 0, 0, 0.15);\n",
              "      filter: drop-shadow(0px 1px 2px rgba(0, 0, 0, 0.3));\n",
              "      fill: #FFFFFF;\n",
              "    }\n",
              "  </style>\n",
              "\n",
              "      <script>\n",
              "        const buttonEl =\n",
              "          document.querySelector('#df-9bbaecfa-fe6b-4c46-881e-608652d0d722 button.colab-df-convert');\n",
              "        buttonEl.style.display =\n",
              "          google.colab.kernel.accessAllowed ? 'block' : 'none';\n",
              "\n",
              "        async function convertToInteractive(key) {\n",
              "          const element = document.querySelector('#df-9bbaecfa-fe6b-4c46-881e-608652d0d722');\n",
              "          const dataTable =\n",
              "            await google.colab.kernel.invokeFunction('convertToInteractive',\n",
              "                                                     [key], {});\n",
              "          if (!dataTable) return;\n",
              "\n",
              "          const docLinkHtml = 'Like what you see? Visit the ' +\n",
              "            '<a target=\"_blank\" href=https://colab.research.google.com/notebooks/data_table.ipynb>data table notebook</a>'\n",
              "            + ' to learn more about interactive tables.';\n",
              "          element.innerHTML = '';\n",
              "          dataTable['output_type'] = 'display_data';\n",
              "          await google.colab.output.renderOutput(dataTable, element);\n",
              "          const docLink = document.createElement('div');\n",
              "          docLink.innerHTML = docLinkHtml;\n",
              "          element.appendChild(docLink);\n",
              "        }\n",
              "      </script>\n",
              "    </div>\n",
              "  </div>\n",
              "  "
            ]
          },
          "metadata": {},
          "execution_count": 3
        }
      ]
    },
    {
      "cell_type": "code",
      "source": [
        "df.head()"
      ],
      "metadata": {
        "colab": {
          "base_uri": "https://localhost:8080/",
          "height": 206
        },
        "id": "9giY7inwegpH",
        "outputId": "a5f20c62-7b96-4844-fc35-908cb577c6a6"
      },
      "execution_count": 4,
      "outputs": [
        {
          "output_type": "execute_result",
          "data": {
            "text/plain": [
              "               time  temperatura\n",
              "0  2022-01-01T00:00         21.7\n",
              "1  2022-01-01T01:00         21.4\n",
              "2  2022-01-01T02:00         21.0\n",
              "3  2022-01-01T03:00         20.7\n",
              "4  2022-01-01T04:00         20.4"
            ],
            "text/html": [
              "\n",
              "  <div id=\"df-aa06d4d6-7349-4411-b0d5-67ad48b66743\">\n",
              "    <div class=\"colab-df-container\">\n",
              "      <div>\n",
              "<style scoped>\n",
              "    .dataframe tbody tr th:only-of-type {\n",
              "        vertical-align: middle;\n",
              "    }\n",
              "\n",
              "    .dataframe tbody tr th {\n",
              "        vertical-align: top;\n",
              "    }\n",
              "\n",
              "    .dataframe thead th {\n",
              "        text-align: right;\n",
              "    }\n",
              "</style>\n",
              "<table border=\"1\" class=\"dataframe\">\n",
              "  <thead>\n",
              "    <tr style=\"text-align: right;\">\n",
              "      <th></th>\n",
              "      <th>time</th>\n",
              "      <th>temperatura</th>\n",
              "    </tr>\n",
              "  </thead>\n",
              "  <tbody>\n",
              "    <tr>\n",
              "      <th>0</th>\n",
              "      <td>2022-01-01T00:00</td>\n",
              "      <td>21.7</td>\n",
              "    </tr>\n",
              "    <tr>\n",
              "      <th>1</th>\n",
              "      <td>2022-01-01T01:00</td>\n",
              "      <td>21.4</td>\n",
              "    </tr>\n",
              "    <tr>\n",
              "      <th>2</th>\n",
              "      <td>2022-01-01T02:00</td>\n",
              "      <td>21.0</td>\n",
              "    </tr>\n",
              "    <tr>\n",
              "      <th>3</th>\n",
              "      <td>2022-01-01T03:00</td>\n",
              "      <td>20.7</td>\n",
              "    </tr>\n",
              "    <tr>\n",
              "      <th>4</th>\n",
              "      <td>2022-01-01T04:00</td>\n",
              "      <td>20.4</td>\n",
              "    </tr>\n",
              "  </tbody>\n",
              "</table>\n",
              "</div>\n",
              "      <button class=\"colab-df-convert\" onclick=\"convertToInteractive('df-aa06d4d6-7349-4411-b0d5-67ad48b66743')\"\n",
              "              title=\"Convert this dataframe to an interactive table.\"\n",
              "              style=\"display:none;\">\n",
              "        \n",
              "  <svg xmlns=\"http://www.w3.org/2000/svg\" height=\"24px\"viewBox=\"0 0 24 24\"\n",
              "       width=\"24px\">\n",
              "    <path d=\"M0 0h24v24H0V0z\" fill=\"none\"/>\n",
              "    <path d=\"M18.56 5.44l.94 2.06.94-2.06 2.06-.94-2.06-.94-.94-2.06-.94 2.06-2.06.94zm-11 1L8.5 8.5l.94-2.06 2.06-.94-2.06-.94L8.5 2.5l-.94 2.06-2.06.94zm10 10l.94 2.06.94-2.06 2.06-.94-2.06-.94-.94-2.06-.94 2.06-2.06.94z\"/><path d=\"M17.41 7.96l-1.37-1.37c-.4-.4-.92-.59-1.43-.59-.52 0-1.04.2-1.43.59L10.3 9.45l-7.72 7.72c-.78.78-.78 2.05 0 2.83L4 21.41c.39.39.9.59 1.41.59.51 0 1.02-.2 1.41-.59l7.78-7.78 2.81-2.81c.8-.78.8-2.07 0-2.86zM5.41 20L4 18.59l7.72-7.72 1.47 1.35L5.41 20z\"/>\n",
              "  </svg>\n",
              "      </button>\n",
              "      \n",
              "  <style>\n",
              "    .colab-df-container {\n",
              "      display:flex;\n",
              "      flex-wrap:wrap;\n",
              "      gap: 12px;\n",
              "    }\n",
              "\n",
              "    .colab-df-convert {\n",
              "      background-color: #E8F0FE;\n",
              "      border: none;\n",
              "      border-radius: 50%;\n",
              "      cursor: pointer;\n",
              "      display: none;\n",
              "      fill: #1967D2;\n",
              "      height: 32px;\n",
              "      padding: 0 0 0 0;\n",
              "      width: 32px;\n",
              "    }\n",
              "\n",
              "    .colab-df-convert:hover {\n",
              "      background-color: #E2EBFA;\n",
              "      box-shadow: 0px 1px 2px rgba(60, 64, 67, 0.3), 0px 1px 3px 1px rgba(60, 64, 67, 0.15);\n",
              "      fill: #174EA6;\n",
              "    }\n",
              "\n",
              "    [theme=dark] .colab-df-convert {\n",
              "      background-color: #3B4455;\n",
              "      fill: #D2E3FC;\n",
              "    }\n",
              "\n",
              "    [theme=dark] .colab-df-convert:hover {\n",
              "      background-color: #434B5C;\n",
              "      box-shadow: 0px 1px 3px 1px rgba(0, 0, 0, 0.15);\n",
              "      filter: drop-shadow(0px 1px 2px rgba(0, 0, 0, 0.3));\n",
              "      fill: #FFFFFF;\n",
              "    }\n",
              "  </style>\n",
              "\n",
              "      <script>\n",
              "        const buttonEl =\n",
              "          document.querySelector('#df-aa06d4d6-7349-4411-b0d5-67ad48b66743 button.colab-df-convert');\n",
              "        buttonEl.style.display =\n",
              "          google.colab.kernel.accessAllowed ? 'block' : 'none';\n",
              "\n",
              "        async function convertToInteractive(key) {\n",
              "          const element = document.querySelector('#df-aa06d4d6-7349-4411-b0d5-67ad48b66743');\n",
              "          const dataTable =\n",
              "            await google.colab.kernel.invokeFunction('convertToInteractive',\n",
              "                                                     [key], {});\n",
              "          if (!dataTable) return;\n",
              "\n",
              "          const docLinkHtml = 'Like what you see? Visit the ' +\n",
              "            '<a target=\"_blank\" href=https://colab.research.google.com/notebooks/data_table.ipynb>data table notebook</a>'\n",
              "            + ' to learn more about interactive tables.';\n",
              "          element.innerHTML = '';\n",
              "          dataTable['output_type'] = 'display_data';\n",
              "          await google.colab.output.renderOutput(dataTable, element);\n",
              "          const docLink = document.createElement('div');\n",
              "          docLink.innerHTML = docLinkHtml;\n",
              "          element.appendChild(docLink);\n",
              "        }\n",
              "      </script>\n",
              "    </div>\n",
              "  </div>\n",
              "  "
            ]
          },
          "metadata": {},
          "execution_count": 4
        }
      ]
    },
    {
      "cell_type": "markdown",
      "source": [
        "Os seguintes valores serão usados, apenas como exemplo, para classificar as temperaturas deste dataset:\n",
        "- Frio: menor que 20°C;\n",
        "- Agradável: entre 20°C e 25°C;\n",
        "- Quente: acima de 25°C."
      ],
      "metadata": {
        "id": "--LxSC-5znO1"
      }
    },
    {
      "cell_type": "code",
      "source": [
        "from enum import Enum\n",
        "\n",
        "class ClassesTemperatura(Enum):\n",
        "    Frio = 0\n",
        "    Agradavel = 1\n",
        "    Quente = 2\n",
        "\n",
        "# Classifica as temperaturas com base na classe acima\n",
        "def classifica_temperatura(temp):\n",
        "    if temp < 20:\n",
        "        return ClassesTemperatura.Frio.value\n",
        "    elif temp >= 20 and temp <= 25:\n",
        "        return ClassesTemperatura.Agradavel.value\n",
        "    else:\n",
        "        return ClassesTemperatura.Quente.value\n",
        "\n",
        "# Cria a nova coluna com as classificações\n",
        "df[\"classe\"] = df[\"temperatura\"].apply(classifica_temperatura)\n",
        "\n",
        "df.describe()"
      ],
      "metadata": {
        "colab": {
          "base_uri": "https://localhost:8080/",
          "height": 300
        },
        "id": "MrlsMDa7zNbt",
        "outputId": "b5543e80-9a46-41ca-88c7-2101a018d2e1"
      },
      "execution_count": 5,
      "outputs": [
        {
          "output_type": "execute_result",
          "data": {
            "text/plain": [
              "       temperatura       classe\n",
              "count  8760.000000  8760.000000\n",
              "mean     20.072283     0.642123\n",
              "std       4.491420     0.712540\n",
              "min       6.000000     0.000000\n",
              "25%      16.700000     0.000000\n",
              "50%      20.000000     1.000000\n",
              "75%      23.200000     1.000000\n",
              "max      33.200000     2.000000"
            ],
            "text/html": [
              "\n",
              "  <div id=\"df-2638917c-ce4f-48b8-8974-17b64fbebcf4\">\n",
              "    <div class=\"colab-df-container\">\n",
              "      <div>\n",
              "<style scoped>\n",
              "    .dataframe tbody tr th:only-of-type {\n",
              "        vertical-align: middle;\n",
              "    }\n",
              "\n",
              "    .dataframe tbody tr th {\n",
              "        vertical-align: top;\n",
              "    }\n",
              "\n",
              "    .dataframe thead th {\n",
              "        text-align: right;\n",
              "    }\n",
              "</style>\n",
              "<table border=\"1\" class=\"dataframe\">\n",
              "  <thead>\n",
              "    <tr style=\"text-align: right;\">\n",
              "      <th></th>\n",
              "      <th>temperatura</th>\n",
              "      <th>classe</th>\n",
              "    </tr>\n",
              "  </thead>\n",
              "  <tbody>\n",
              "    <tr>\n",
              "      <th>count</th>\n",
              "      <td>8760.000000</td>\n",
              "      <td>8760.000000</td>\n",
              "    </tr>\n",
              "    <tr>\n",
              "      <th>mean</th>\n",
              "      <td>20.072283</td>\n",
              "      <td>0.642123</td>\n",
              "    </tr>\n",
              "    <tr>\n",
              "      <th>std</th>\n",
              "      <td>4.491420</td>\n",
              "      <td>0.712540</td>\n",
              "    </tr>\n",
              "    <tr>\n",
              "      <th>min</th>\n",
              "      <td>6.000000</td>\n",
              "      <td>0.000000</td>\n",
              "    </tr>\n",
              "    <tr>\n",
              "      <th>25%</th>\n",
              "      <td>16.700000</td>\n",
              "      <td>0.000000</td>\n",
              "    </tr>\n",
              "    <tr>\n",
              "      <th>50%</th>\n",
              "      <td>20.000000</td>\n",
              "      <td>1.000000</td>\n",
              "    </tr>\n",
              "    <tr>\n",
              "      <th>75%</th>\n",
              "      <td>23.200000</td>\n",
              "      <td>1.000000</td>\n",
              "    </tr>\n",
              "    <tr>\n",
              "      <th>max</th>\n",
              "      <td>33.200000</td>\n",
              "      <td>2.000000</td>\n",
              "    </tr>\n",
              "  </tbody>\n",
              "</table>\n",
              "</div>\n",
              "      <button class=\"colab-df-convert\" onclick=\"convertToInteractive('df-2638917c-ce4f-48b8-8974-17b64fbebcf4')\"\n",
              "              title=\"Convert this dataframe to an interactive table.\"\n",
              "              style=\"display:none;\">\n",
              "        \n",
              "  <svg xmlns=\"http://www.w3.org/2000/svg\" height=\"24px\"viewBox=\"0 0 24 24\"\n",
              "       width=\"24px\">\n",
              "    <path d=\"M0 0h24v24H0V0z\" fill=\"none\"/>\n",
              "    <path d=\"M18.56 5.44l.94 2.06.94-2.06 2.06-.94-2.06-.94-.94-2.06-.94 2.06-2.06.94zm-11 1L8.5 8.5l.94-2.06 2.06-.94-2.06-.94L8.5 2.5l-.94 2.06-2.06.94zm10 10l.94 2.06.94-2.06 2.06-.94-2.06-.94-.94-2.06-.94 2.06-2.06.94z\"/><path d=\"M17.41 7.96l-1.37-1.37c-.4-.4-.92-.59-1.43-.59-.52 0-1.04.2-1.43.59L10.3 9.45l-7.72 7.72c-.78.78-.78 2.05 0 2.83L4 21.41c.39.39.9.59 1.41.59.51 0 1.02-.2 1.41-.59l7.78-7.78 2.81-2.81c.8-.78.8-2.07 0-2.86zM5.41 20L4 18.59l7.72-7.72 1.47 1.35L5.41 20z\"/>\n",
              "  </svg>\n",
              "      </button>\n",
              "      \n",
              "  <style>\n",
              "    .colab-df-container {\n",
              "      display:flex;\n",
              "      flex-wrap:wrap;\n",
              "      gap: 12px;\n",
              "    }\n",
              "\n",
              "    .colab-df-convert {\n",
              "      background-color: #E8F0FE;\n",
              "      border: none;\n",
              "      border-radius: 50%;\n",
              "      cursor: pointer;\n",
              "      display: none;\n",
              "      fill: #1967D2;\n",
              "      height: 32px;\n",
              "      padding: 0 0 0 0;\n",
              "      width: 32px;\n",
              "    }\n",
              "\n",
              "    .colab-df-convert:hover {\n",
              "      background-color: #E2EBFA;\n",
              "      box-shadow: 0px 1px 2px rgba(60, 64, 67, 0.3), 0px 1px 3px 1px rgba(60, 64, 67, 0.15);\n",
              "      fill: #174EA6;\n",
              "    }\n",
              "\n",
              "    [theme=dark] .colab-df-convert {\n",
              "      background-color: #3B4455;\n",
              "      fill: #D2E3FC;\n",
              "    }\n",
              "\n",
              "    [theme=dark] .colab-df-convert:hover {\n",
              "      background-color: #434B5C;\n",
              "      box-shadow: 0px 1px 3px 1px rgba(0, 0, 0, 0.15);\n",
              "      filter: drop-shadow(0px 1px 2px rgba(0, 0, 0, 0.3));\n",
              "      fill: #FFFFFF;\n",
              "    }\n",
              "  </style>\n",
              "\n",
              "      <script>\n",
              "        const buttonEl =\n",
              "          document.querySelector('#df-2638917c-ce4f-48b8-8974-17b64fbebcf4 button.colab-df-convert');\n",
              "        buttonEl.style.display =\n",
              "          google.colab.kernel.accessAllowed ? 'block' : 'none';\n",
              "\n",
              "        async function convertToInteractive(key) {\n",
              "          const element = document.querySelector('#df-2638917c-ce4f-48b8-8974-17b64fbebcf4');\n",
              "          const dataTable =\n",
              "            await google.colab.kernel.invokeFunction('convertToInteractive',\n",
              "                                                     [key], {});\n",
              "          if (!dataTable) return;\n",
              "\n",
              "          const docLinkHtml = 'Like what you see? Visit the ' +\n",
              "            '<a target=\"_blank\" href=https://colab.research.google.com/notebooks/data_table.ipynb>data table notebook</a>'\n",
              "            + ' to learn more about interactive tables.';\n",
              "          element.innerHTML = '';\n",
              "          dataTable['output_type'] = 'display_data';\n",
              "          await google.colab.output.renderOutput(dataTable, element);\n",
              "          const docLink = document.createElement('div');\n",
              "          docLink.innerHTML = docLinkHtml;\n",
              "          element.appendChild(docLink);\n",
              "        }\n",
              "      </script>\n",
              "    </div>\n",
              "  </div>\n",
              "  "
            ]
          },
          "metadata": {},
          "execution_count": 5
        }
      ]
    },
    {
      "cell_type": "code",
      "source": [
        "df.head()"
      ],
      "metadata": {
        "colab": {
          "base_uri": "https://localhost:8080/",
          "height": 206
        },
        "id": "6VQLhh1IgiR2",
        "outputId": "f0c55acf-2b19-44ab-ac03-df0e5c48482f"
      },
      "execution_count": 6,
      "outputs": [
        {
          "output_type": "execute_result",
          "data": {
            "text/plain": [
              "               time  temperatura  classe\n",
              "0  2022-01-01T00:00         21.7       1\n",
              "1  2022-01-01T01:00         21.4       1\n",
              "2  2022-01-01T02:00         21.0       1\n",
              "3  2022-01-01T03:00         20.7       1\n",
              "4  2022-01-01T04:00         20.4       1"
            ],
            "text/html": [
              "\n",
              "  <div id=\"df-df630003-9894-430c-b7c4-d0c33bfffe65\">\n",
              "    <div class=\"colab-df-container\">\n",
              "      <div>\n",
              "<style scoped>\n",
              "    .dataframe tbody tr th:only-of-type {\n",
              "        vertical-align: middle;\n",
              "    }\n",
              "\n",
              "    .dataframe tbody tr th {\n",
              "        vertical-align: top;\n",
              "    }\n",
              "\n",
              "    .dataframe thead th {\n",
              "        text-align: right;\n",
              "    }\n",
              "</style>\n",
              "<table border=\"1\" class=\"dataframe\">\n",
              "  <thead>\n",
              "    <tr style=\"text-align: right;\">\n",
              "      <th></th>\n",
              "      <th>time</th>\n",
              "      <th>temperatura</th>\n",
              "      <th>classe</th>\n",
              "    </tr>\n",
              "  </thead>\n",
              "  <tbody>\n",
              "    <tr>\n",
              "      <th>0</th>\n",
              "      <td>2022-01-01T00:00</td>\n",
              "      <td>21.7</td>\n",
              "      <td>1</td>\n",
              "    </tr>\n",
              "    <tr>\n",
              "      <th>1</th>\n",
              "      <td>2022-01-01T01:00</td>\n",
              "      <td>21.4</td>\n",
              "      <td>1</td>\n",
              "    </tr>\n",
              "    <tr>\n",
              "      <th>2</th>\n",
              "      <td>2022-01-01T02:00</td>\n",
              "      <td>21.0</td>\n",
              "      <td>1</td>\n",
              "    </tr>\n",
              "    <tr>\n",
              "      <th>3</th>\n",
              "      <td>2022-01-01T03:00</td>\n",
              "      <td>20.7</td>\n",
              "      <td>1</td>\n",
              "    </tr>\n",
              "    <tr>\n",
              "      <th>4</th>\n",
              "      <td>2022-01-01T04:00</td>\n",
              "      <td>20.4</td>\n",
              "      <td>1</td>\n",
              "    </tr>\n",
              "  </tbody>\n",
              "</table>\n",
              "</div>\n",
              "      <button class=\"colab-df-convert\" onclick=\"convertToInteractive('df-df630003-9894-430c-b7c4-d0c33bfffe65')\"\n",
              "              title=\"Convert this dataframe to an interactive table.\"\n",
              "              style=\"display:none;\">\n",
              "        \n",
              "  <svg xmlns=\"http://www.w3.org/2000/svg\" height=\"24px\"viewBox=\"0 0 24 24\"\n",
              "       width=\"24px\">\n",
              "    <path d=\"M0 0h24v24H0V0z\" fill=\"none\"/>\n",
              "    <path d=\"M18.56 5.44l.94 2.06.94-2.06 2.06-.94-2.06-.94-.94-2.06-.94 2.06-2.06.94zm-11 1L8.5 8.5l.94-2.06 2.06-.94-2.06-.94L8.5 2.5l-.94 2.06-2.06.94zm10 10l.94 2.06.94-2.06 2.06-.94-2.06-.94-.94-2.06-.94 2.06-2.06.94z\"/><path d=\"M17.41 7.96l-1.37-1.37c-.4-.4-.92-.59-1.43-.59-.52 0-1.04.2-1.43.59L10.3 9.45l-7.72 7.72c-.78.78-.78 2.05 0 2.83L4 21.41c.39.39.9.59 1.41.59.51 0 1.02-.2 1.41-.59l7.78-7.78 2.81-2.81c.8-.78.8-2.07 0-2.86zM5.41 20L4 18.59l7.72-7.72 1.47 1.35L5.41 20z\"/>\n",
              "  </svg>\n",
              "      </button>\n",
              "      \n",
              "  <style>\n",
              "    .colab-df-container {\n",
              "      display:flex;\n",
              "      flex-wrap:wrap;\n",
              "      gap: 12px;\n",
              "    }\n",
              "\n",
              "    .colab-df-convert {\n",
              "      background-color: #E8F0FE;\n",
              "      border: none;\n",
              "      border-radius: 50%;\n",
              "      cursor: pointer;\n",
              "      display: none;\n",
              "      fill: #1967D2;\n",
              "      height: 32px;\n",
              "      padding: 0 0 0 0;\n",
              "      width: 32px;\n",
              "    }\n",
              "\n",
              "    .colab-df-convert:hover {\n",
              "      background-color: #E2EBFA;\n",
              "      box-shadow: 0px 1px 2px rgba(60, 64, 67, 0.3), 0px 1px 3px 1px rgba(60, 64, 67, 0.15);\n",
              "      fill: #174EA6;\n",
              "    }\n",
              "\n",
              "    [theme=dark] .colab-df-convert {\n",
              "      background-color: #3B4455;\n",
              "      fill: #D2E3FC;\n",
              "    }\n",
              "\n",
              "    [theme=dark] .colab-df-convert:hover {\n",
              "      background-color: #434B5C;\n",
              "      box-shadow: 0px 1px 3px 1px rgba(0, 0, 0, 0.15);\n",
              "      filter: drop-shadow(0px 1px 2px rgba(0, 0, 0, 0.3));\n",
              "      fill: #FFFFFF;\n",
              "    }\n",
              "  </style>\n",
              "\n",
              "      <script>\n",
              "        const buttonEl =\n",
              "          document.querySelector('#df-df630003-9894-430c-b7c4-d0c33bfffe65 button.colab-df-convert');\n",
              "        buttonEl.style.display =\n",
              "          google.colab.kernel.accessAllowed ? 'block' : 'none';\n",
              "\n",
              "        async function convertToInteractive(key) {\n",
              "          const element = document.querySelector('#df-df630003-9894-430c-b7c4-d0c33bfffe65');\n",
              "          const dataTable =\n",
              "            await google.colab.kernel.invokeFunction('convertToInteractive',\n",
              "                                                     [key], {});\n",
              "          if (!dataTable) return;\n",
              "\n",
              "          const docLinkHtml = 'Like what you see? Visit the ' +\n",
              "            '<a target=\"_blank\" href=https://colab.research.google.com/notebooks/data_table.ipynb>data table notebook</a>'\n",
              "            + ' to learn more about interactive tables.';\n",
              "          element.innerHTML = '';\n",
              "          dataTable['output_type'] = 'display_data';\n",
              "          await google.colab.output.renderOutput(dataTable, element);\n",
              "          const docLink = document.createElement('div');\n",
              "          docLink.innerHTML = docLinkHtml;\n",
              "          element.appendChild(docLink);\n",
              "        }\n",
              "      </script>\n",
              "    </div>\n",
              "  </div>\n",
              "  "
            ]
          },
          "metadata": {},
          "execution_count": 6
        }
      ]
    },
    {
      "cell_type": "code",
      "source": [
        "print(\"Quantidade de amostras em 'frio'\", df[df[\"classe\"] == 0].count())\n",
        "print(\"Quantidade de amostras em 'agradável'\", df[df[\"classe\"] == 1].count())\n",
        "print(\"Quantidade de amostras em 'quente'\", df[df[\"classe\"] == 2].count())"
      ],
      "metadata": {
        "colab": {
          "base_uri": "https://localhost:8080/"
        },
        "id": "0sxwWeaWGReO",
        "outputId": "74495f69-60eb-45ce-bdbd-e17b35a4cb76"
      },
      "execution_count": 7,
      "outputs": [
        {
          "output_type": "stream",
          "name": "stdout",
          "text": [
            "Quantidade de amostras em 'frio' time           4352\n",
            "temperatura    4352\n",
            "classe         4352\n",
            "dtype: int64\n",
            "Quantidade de amostras em 'agradável' time           3191\n",
            "temperatura    3191\n",
            "classe         3191\n",
            "dtype: int64\n",
            "Quantidade de amostras em 'quente' time           1217\n",
            "temperatura    1217\n",
            "classe         1217\n",
            "dtype: int64\n"
          ]
        }
      ]
    },
    {
      "cell_type": "code",
      "source": [
        "df.tail()"
      ],
      "metadata": {
        "colab": {
          "base_uri": "https://localhost:8080/",
          "height": 206
        },
        "id": "8VUIGz-CbvoU",
        "outputId": "d53d5f10-5bf8-4e11-8279-a983c70532db"
      },
      "execution_count": 8,
      "outputs": [
        {
          "output_type": "execute_result",
          "data": {
            "text/plain": [
              "                  time  temperatura  classe\n",
              "8755  2022-12-31T19:00         28.0       2\n",
              "8756  2022-12-31T20:00         26.6       2\n",
              "8757  2022-12-31T21:00         25.6       2\n",
              "8758  2022-12-31T22:00         24.5       1\n",
              "8759  2022-12-31T23:00         23.5       1"
            ],
            "text/html": [
              "\n",
              "  <div id=\"df-2ea90f1b-c7bb-4d47-90b1-f3a5931a14fb\">\n",
              "    <div class=\"colab-df-container\">\n",
              "      <div>\n",
              "<style scoped>\n",
              "    .dataframe tbody tr th:only-of-type {\n",
              "        vertical-align: middle;\n",
              "    }\n",
              "\n",
              "    .dataframe tbody tr th {\n",
              "        vertical-align: top;\n",
              "    }\n",
              "\n",
              "    .dataframe thead th {\n",
              "        text-align: right;\n",
              "    }\n",
              "</style>\n",
              "<table border=\"1\" class=\"dataframe\">\n",
              "  <thead>\n",
              "    <tr style=\"text-align: right;\">\n",
              "      <th></th>\n",
              "      <th>time</th>\n",
              "      <th>temperatura</th>\n",
              "      <th>classe</th>\n",
              "    </tr>\n",
              "  </thead>\n",
              "  <tbody>\n",
              "    <tr>\n",
              "      <th>8755</th>\n",
              "      <td>2022-12-31T19:00</td>\n",
              "      <td>28.0</td>\n",
              "      <td>2</td>\n",
              "    </tr>\n",
              "    <tr>\n",
              "      <th>8756</th>\n",
              "      <td>2022-12-31T20:00</td>\n",
              "      <td>26.6</td>\n",
              "      <td>2</td>\n",
              "    </tr>\n",
              "    <tr>\n",
              "      <th>8757</th>\n",
              "      <td>2022-12-31T21:00</td>\n",
              "      <td>25.6</td>\n",
              "      <td>2</td>\n",
              "    </tr>\n",
              "    <tr>\n",
              "      <th>8758</th>\n",
              "      <td>2022-12-31T22:00</td>\n",
              "      <td>24.5</td>\n",
              "      <td>1</td>\n",
              "    </tr>\n",
              "    <tr>\n",
              "      <th>8759</th>\n",
              "      <td>2022-12-31T23:00</td>\n",
              "      <td>23.5</td>\n",
              "      <td>1</td>\n",
              "    </tr>\n",
              "  </tbody>\n",
              "</table>\n",
              "</div>\n",
              "      <button class=\"colab-df-convert\" onclick=\"convertToInteractive('df-2ea90f1b-c7bb-4d47-90b1-f3a5931a14fb')\"\n",
              "              title=\"Convert this dataframe to an interactive table.\"\n",
              "              style=\"display:none;\">\n",
              "        \n",
              "  <svg xmlns=\"http://www.w3.org/2000/svg\" height=\"24px\"viewBox=\"0 0 24 24\"\n",
              "       width=\"24px\">\n",
              "    <path d=\"M0 0h24v24H0V0z\" fill=\"none\"/>\n",
              "    <path d=\"M18.56 5.44l.94 2.06.94-2.06 2.06-.94-2.06-.94-.94-2.06-.94 2.06-2.06.94zm-11 1L8.5 8.5l.94-2.06 2.06-.94-2.06-.94L8.5 2.5l-.94 2.06-2.06.94zm10 10l.94 2.06.94-2.06 2.06-.94-2.06-.94-.94-2.06-.94 2.06-2.06.94z\"/><path d=\"M17.41 7.96l-1.37-1.37c-.4-.4-.92-.59-1.43-.59-.52 0-1.04.2-1.43.59L10.3 9.45l-7.72 7.72c-.78.78-.78 2.05 0 2.83L4 21.41c.39.39.9.59 1.41.59.51 0 1.02-.2 1.41-.59l7.78-7.78 2.81-2.81c.8-.78.8-2.07 0-2.86zM5.41 20L4 18.59l7.72-7.72 1.47 1.35L5.41 20z\"/>\n",
              "  </svg>\n",
              "      </button>\n",
              "      \n",
              "  <style>\n",
              "    .colab-df-container {\n",
              "      display:flex;\n",
              "      flex-wrap:wrap;\n",
              "      gap: 12px;\n",
              "    }\n",
              "\n",
              "    .colab-df-convert {\n",
              "      background-color: #E8F0FE;\n",
              "      border: none;\n",
              "      border-radius: 50%;\n",
              "      cursor: pointer;\n",
              "      display: none;\n",
              "      fill: #1967D2;\n",
              "      height: 32px;\n",
              "      padding: 0 0 0 0;\n",
              "      width: 32px;\n",
              "    }\n",
              "\n",
              "    .colab-df-convert:hover {\n",
              "      background-color: #E2EBFA;\n",
              "      box-shadow: 0px 1px 2px rgba(60, 64, 67, 0.3), 0px 1px 3px 1px rgba(60, 64, 67, 0.15);\n",
              "      fill: #174EA6;\n",
              "    }\n",
              "\n",
              "    [theme=dark] .colab-df-convert {\n",
              "      background-color: #3B4455;\n",
              "      fill: #D2E3FC;\n",
              "    }\n",
              "\n",
              "    [theme=dark] .colab-df-convert:hover {\n",
              "      background-color: #434B5C;\n",
              "      box-shadow: 0px 1px 3px 1px rgba(0, 0, 0, 0.15);\n",
              "      filter: drop-shadow(0px 1px 2px rgba(0, 0, 0, 0.3));\n",
              "      fill: #FFFFFF;\n",
              "    }\n",
              "  </style>\n",
              "\n",
              "      <script>\n",
              "        const buttonEl =\n",
              "          document.querySelector('#df-2ea90f1b-c7bb-4d47-90b1-f3a5931a14fb button.colab-df-convert');\n",
              "        buttonEl.style.display =\n",
              "          google.colab.kernel.accessAllowed ? 'block' : 'none';\n",
              "\n",
              "        async function convertToInteractive(key) {\n",
              "          const element = document.querySelector('#df-2ea90f1b-c7bb-4d47-90b1-f3a5931a14fb');\n",
              "          const dataTable =\n",
              "            await google.colab.kernel.invokeFunction('convertToInteractive',\n",
              "                                                     [key], {});\n",
              "          if (!dataTable) return;\n",
              "\n",
              "          const docLinkHtml = 'Like what you see? Visit the ' +\n",
              "            '<a target=\"_blank\" href=https://colab.research.google.com/notebooks/data_table.ipynb>data table notebook</a>'\n",
              "            + ' to learn more about interactive tables.';\n",
              "          element.innerHTML = '';\n",
              "          dataTable['output_type'] = 'display_data';\n",
              "          await google.colab.output.renderOutput(dataTable, element);\n",
              "          const docLink = document.createElement('div');\n",
              "          docLink.innerHTML = docLinkHtml;\n",
              "          element.appendChild(docLink);\n",
              "        }\n",
              "      </script>\n",
              "    </div>\n",
              "  </div>\n",
              "  "
            ]
          },
          "metadata": {},
          "execution_count": 8
        }
      ]
    },
    {
      "cell_type": "markdown",
      "source": [
        "## Treinamento"
      ],
      "metadata": {
        "id": "XjEozUxS1MF7"
      }
    },
    {
      "cell_type": "code",
      "source": [
        "from sklearn.preprocessing import StandardScaler, LabelEncoder\n",
        "\n",
        "# Dividir os dados em X e rótulos (y)\n",
        "X = df['temperatura'].values.reshape(-1, 1)\n",
        "y = df['classe'].values\n",
        "\n",
        "# Normaliza X\n",
        "scaler = StandardScaler()\n",
        "X = scaler.fit_transform(X)\n",
        "\n"
      ],
      "metadata": {
        "id": "0WzEty551PLV"
      },
      "execution_count": 10,
      "outputs": []
    },
    {
      "cell_type": "code",
      "source": [
        "# Acessa o vetor médio usado para normalizar os dados\n",
        "mean = scaler.mean_\n",
        "\n",
        "# Acessa o vetor de desvio padrão usado para normalizar os dados\n",
        "std = scaler.scale_\n",
        "\n",
        "# Imprime os vetores médio e de desvio padrão\n",
        "print(mean)\n",
        "print(std)\n"
      ],
      "metadata": {
        "colab": {
          "base_uri": "https://localhost:8080/"
        },
        "id": "qpRWSOawXmHl",
        "outputId": "e9052d93-6d4c-425f-fa7e-b9d659600201"
      },
      "execution_count": 22,
      "outputs": [
        {
          "output_type": "stream",
          "name": "stdout",
          "text": [
            "[20.07228311]\n",
            "[4.49116319]\n"
          ]
        }
      ]
    },
    {
      "cell_type": "code",
      "source": [
        "# Dividir os dados em conjuntos de treinamento e teste\n",
        "from sklearn.model_selection import train_test_split\n",
        "X_train, X_test, y_train, y_test = train_test_split(X, y, test_size=0.25)"
      ],
      "metadata": {
        "id": "5DjycC5Oj6OR"
      },
      "execution_count": 11,
      "outputs": []
    },
    {
      "cell_type": "code",
      "source": [
        "# Importar as bibliotecas necessárias\n",
        "import numpy as np\n",
        "from keras.models import Sequential\n",
        "from keras.layers import Dense\n",
        "from keras.layers import Input\n",
        "\n",
        "from tensorflow.keras.utils import to_categorical\n",
        "\n",
        "\n",
        "# Criar o modelo\n",
        "model = Sequential()\n",
        "\n",
        "model.add(Input(shape=(1,)))\n",
        "model.add(Dense(5, activation='relu'))\n",
        "model.add(Dense(3, activation='sigmoid'))\n",
        "\n",
        "# Compilar o modelo\n",
        "model.compile(loss='categorical_crossentropy', optimizer='adam', metrics=['accuracy'])\n",
        "print(model.summary())\n",
        "\n",
        "print(X_train.shape, y_train.shape)\n",
        "\n",
        "# Treina o modelo\n",
        "history = model.fit(X_train, to_categorical(y_train), epochs=10, verbose=1)\n",
        "\n",
        "\n"
      ],
      "metadata": {
        "colab": {
          "base_uri": "https://localhost:8080/"
        },
        "id": "6IVXQz9sIFzz",
        "outputId": "8423e09d-fe2f-43c7-aa9f-d2ff053eab12"
      },
      "execution_count": 12,
      "outputs": [
        {
          "output_type": "stream",
          "name": "stdout",
          "text": [
            "Model: \"sequential\"\n",
            "_________________________________________________________________\n",
            " Layer (type)                Output Shape              Param #   \n",
            "=================================================================\n",
            " dense (Dense)               (None, 5)                 10        \n",
            "                                                                 \n",
            " dense_1 (Dense)             (None, 3)                 18        \n",
            "                                                                 \n",
            "=================================================================\n",
            "Total params: 28\n",
            "Trainable params: 28\n",
            "Non-trainable params: 0\n",
            "_________________________________________________________________\n",
            "None\n",
            "(6570, 1) (6570,)\n",
            "Epoch 1/10\n",
            "206/206 [==============================] - 2s 3ms/step - loss: 1.0518 - accuracy: 0.5604\n",
            "Epoch 2/10\n",
            "206/206 [==============================] - 0s 2ms/step - loss: 0.7397 - accuracy: 0.7967\n",
            "Epoch 3/10\n",
            "206/206 [==============================] - 1s 3ms/step - loss: 0.5639 - accuracy: 0.9125\n",
            "Epoch 4/10\n",
            "206/206 [==============================] - 1s 3ms/step - loss: 0.4453 - accuracy: 0.9376\n",
            "Epoch 5/10\n",
            "206/206 [==============================] - 1s 3ms/step - loss: 0.3509 - accuracy: 0.9658\n",
            "Epoch 6/10\n",
            "206/206 [==============================] - 1s 3ms/step - loss: 0.2677 - accuracy: 0.9703\n",
            "Epoch 7/10\n",
            "206/206 [==============================] - 1s 4ms/step - loss: 0.2238 - accuracy: 0.9796\n",
            "Epoch 8/10\n",
            "206/206 [==============================] - 1s 4ms/step - loss: 0.1927 - accuracy: 0.9801\n",
            "Epoch 9/10\n",
            "206/206 [==============================] - 1s 4ms/step - loss: 0.1695 - accuracy: 0.9858\n",
            "Epoch 10/10\n",
            "206/206 [==============================] - 2s 9ms/step - loss: 0.1516 - accuracy: 0.9849\n"
          ]
        }
      ]
    },
    {
      "cell_type": "code",
      "source": [
        "# Avaliar o modelo nas amostras de teste\n",
        "loss, accuracy = model.evaluate(X_test, to_categorical(y_test), verbose=1)\n",
        "print('Test Loss:', loss)\n",
        "print('Test Accuracy:', accuracy)"
      ],
      "metadata": {
        "colab": {
          "base_uri": "https://localhost:8080/"
        },
        "id": "ncUKoDBxF9Sy",
        "outputId": "49267cdc-fcdf-4fd1-9c90-dd715bf15328"
      },
      "execution_count": 13,
      "outputs": [
        {
          "output_type": "stream",
          "name": "stdout",
          "text": [
            "69/69 [==============================] - 1s 4ms/step - loss: 0.1434 - accuracy: 0.9918\n",
            "Test Loss: 0.143411785364151\n",
            "Test Accuracy: 0.9917808175086975\n"
          ]
        }
      ]
    },
    {
      "cell_type": "code",
      "source": [
        "import matplotlib.pyplot as plt\n",
        "# Plotar a acurácia e a perda em um único gráfico\n",
        "plt.plot(history.history['accuracy'], marker='o')\n",
        "plt.plot(history.history['loss'], marker='o')\n",
        "plt.xlabel('Epoch')\n",
        "plt.legend(['Acurácia', 'Perda'], loc='center right')\n",
        "\n",
        "\n",
        "\n",
        "\n",
        "\n",
        "\n",
        "plt.show()"
      ],
      "metadata": {
        "colab": {
          "base_uri": "https://localhost:8080/",
          "height": 449
        },
        "id": "pBCnawjREb-7",
        "outputId": "633e4f8b-56b0-45be-f2a4-1c7a938b8118"
      },
      "execution_count": 14,
      "outputs": [
        {
          "output_type": "display_data",
          "data": {
            "text/plain": [
              "<Figure size 640x480 with 1 Axes>"
            ],
            "image/png": "[encoded data removed]"
          },
          "metadata": {}
        }
      ]
    },
    {
      "cell_type": "code",
      "source": [
        "print(y_train)"
      ],
      "metadata": {
        "colab": {
          "base_uri": "https://localhost:8080/"
        },
        "id": "LWVa21erTeCR",
        "outputId": "84366dc6-1643-4295-d16c-2d8921b943f7"
      },
      "execution_count": 15,
      "outputs": [
        {
          "output_type": "stream",
          "name": "stdout",
          "text": [
            "[2 0 0 ... 2 0 0]\n"
          ]
        }
      ]
    },
    {
      "cell_type": "code",
      "source": [
        "# Define algumas temperaturas para testar\n",
        "temperaturas_teste = [-1, 10, 20, 25, 30, 40]\n",
        "\n",
        "# Normaliza as temperaturas usando o scaler treinado\n",
        "temperaturas_teste_norm = scaler.transform(np.array(temperaturas_teste).reshape(-1, 1))\n",
        "print(temperaturas_teste_norm)\n",
        "# Usa o modelo para fazer a previsão das classes para as temperaturas de teste\n",
        "y_pred = model.predict(temperaturas_teste_norm)\n",
        "\n",
        "# Obtém a classe com maior probabilidade para cada temperatura de teste\n",
        "\n",
        "y_categorias_pred = np.argmax(y_pred, axis=1)\n",
        "\n",
        "print(y_categorias_pred)"
      ],
      "metadata": {
        "colab": {
          "base_uri": "https://localhost:8080/"
        },
        "id": "1zAh8PTOLhl4",
        "outputId": "c45ea52d-facf-4730-a5c9-849b429b5da5"
      },
      "execution_count": 16,
      "outputs": [
        {
          "output_type": "stream",
          "name": "stdout",
          "text": [
            "[[-4.69194331]\n",
            " [-2.24268918]\n",
            " [-0.01609452]\n",
            " [ 1.09720281]\n",
            " [ 2.21050015]\n",
            " [ 4.43709481]]\n",
            "1/1 [==============================] - 0s 141ms/step\n",
            "[0 0 1 1 2 2]\n"
          ]
        }
      ]
    },
    {
      "cell_type": "code",
      "source": [
        "\n",
        "model.save(f'{MODEL_NAME}.h5')"
      ],
      "metadata": {
        "id": "6fl0-c3wNPea"
      },
      "execution_count": 30,
      "outputs": []
    },
    {
      "cell_type": "code",
      "source": [
        "from tensorflow.keras.models import load_model\n",
        "import tensorflow as tf\n",
        "model = load_model(f'{MODEL_NAME}.h5')\n",
        "# Define o conversor\n",
        "converter = tf.lite.TFLiteConverter.from_keras_model(model)\n",
        "\n",
        "# Define as opções de conversão para incluir as informações de escala e zero_point\n",
        "converter.optimizations = [tf.lite.Optimize.DEFAULT]\n",
        "converter.inference_input_type = tf.float32\n",
        "converter.inference_output_type = tf.float32\n",
        "\n",
        "# Adiciona o objeto de metadados ao modelo convertido\n",
        "tflite_model = converter.convert()\n",
        "\n",
        "with open(f'{MODEL_NAME}.tflite', 'wb') as f:\n",
        "    f.write(tflite_model)"
      ],
      "metadata": {
        "colab": {
          "base_uri": "https://localhost:8080/"
        },
        "id": "7cs-0PHNNY7l",
        "outputId": "a2e500f0-c316-4fd9-8897-4dcc847a830e"
      },
      "execution_count": 29,
      "outputs": [
        {
          "output_type": "stream",
          "name": "stderr",
          "text": [
            "WARNING:absl:Found untraced functions such as _update_step_xla while saving (showing 1 of 1). These functions will not be directly callable after loading.\n"
          ]
        }
      ]
    },
    {
      "cell_type": "markdown",
      "source": [
        "xxd -i converted_model.tflite > ./main/model.cc"
      ],
      "metadata": {
        "id": "L5L-lfymKs_J"
      }
    },
    {
      "cell_type": "markdown",
      "source": [
        "## Testes da precisão do modelo gerado lite"
      ],
      "metadata": {
        "id": "BOT0b8NuNKLO"
      }
    },
    {
      "cell_type": "code",
      "source": [
        "!pip install tflite_runtime"
      ],
      "metadata": {
        "colab": {
          "base_uri": "https://localhost:8080/"
        },
        "id": "1TvMVDQAN6l8",
        "outputId": "fbae8e62-8076-48c8-bcc6-2c50844f8247"
      },
      "execution_count": 20,
      "outputs": [
        {
          "output_type": "stream",
          "name": "stdout",
          "text": [
            "Looking in indexes: https://pypi.org/simple, https://us-python.pkg.dev/colab-wheels/public/simple/\n",
            "\u001b[31mERROR: Could not find a version that satisfies the requirement tflite_runtime (from versions: none)\u001b[0m\u001b[31m\n",
            "\u001b[0m\u001b[31mERROR: No matching distribution found for tflite_runtime\u001b[0m\u001b[31m\n",
            "\u001b[0m"
          ]
        }
      ]
    },
    {
      "cell_type": "code",
      "source": [
        "tflite_interpreter = tf.lite.Interpreter(\n",
        "    model_path=f'{MODEL_NAME}.tflite',\n",
        "    experimental_op_resolver_type=tf.lite.experimental.OpResolverType.\n",
        "    BUILTIN_REF,\n",
        ")\n",
        "tflite_interpreter.allocate_tensors()\n",
        "\n",
        "input_details = tflite_interpreter.get_input_details()[0]\n",
        "output_details = tflite_interpreter.get_output_details()[0]\n",
        "\n",
        "print(\"== Input details ==\")\n",
        "print(\"name:\", input_details['name'])\n",
        "print(\"shape:\", input_details['shape'])\n",
        "print(\"type:\", input_details['dtype'])\n",
        "\n",
        "print(\"\\n== Output details ==\")\n",
        "print(\"name:\", output_details['name'])\n",
        "print(\"shape:\", output_details['shape'])\n",
        "print(\"type:\", output_details['dtype'])\n",
        "\n",
        "\n",
        "# Obtém as escalas e offsets dos dados de entrada e saída\n",
        "input_scale, input_zero_point = input_details['quantization']\n",
        "output_scale, output_zero_point = output_details['quantization']\n",
        "\n",
        "print('Input scale:', input_scale)\n",
        "print('Input zero point:', input_zero_point)\n",
        "print('Output scale:', output_scale)\n",
        "print('Output zero point:', output_zero_point)"
      ],
      "metadata": {
        "colab": {
          "base_uri": "https://localhost:8080/"
        },
        "id": "9QlZzA97VKBe",
        "outputId": "16b543c5-31ef-4a79-f565-b5a46bc0a899"
      },
      "execution_count": 21,
      "outputs": [
        {
          "output_type": "stream",
          "name": "stdout",
          "text": [
            "== Input details ==\n",
            "name: serving_default_input_1:0\n",
            "shape: [1 1]\n",
            "type: <class 'numpy.float32'>\n",
            "\n",
            "== Output details ==\n",
            "name: StatefulPartitionedCall:0\n",
            "shape: [1 3]\n",
            "type: <class 'numpy.float32'>\n",
            "Input scale: 0.0\n",
            "Input zero point: 0\n",
            "Output scale: 0.0\n",
            "Output zero point: 0\n"
          ]
        }
      ]
    },
    {
      "cell_type": "code",
      "source": [
        "import time\n",
        "input_shape = input_details['shape']\n",
        "temperature = 10 \n",
        "correct_predictions = 0\n",
        "total_predictions = 0\n",
        "total_time = 0\n",
        "while (temperature <= 30):\n",
        "    start_time = time.time()\n",
        "    value = (temperature - mean) / std\n",
        "    input_data = np.reshape(value, input_shape).astype(np.float32)\n",
        "\n",
        "    tflite_interpreter.set_tensor(input_details['index'], input_data)\n",
        "    tflite_interpreter.invoke()\n",
        "    total_time += time.time() - start_time\n",
        "\n",
        "    tflite_output = tflite_interpreter.get_tensor(output_details['index'])\n",
        "    \n",
        "    y_quantized = np.argmax(tflite_output, axis=1)\n",
        "    total_predictions += 1\n",
        "\n",
        "    # Compare with ground truth labels and update accuracy\n",
        "    if y_quantized == classifica_temperatura(temperature):\n",
        "        correct_predictions += 1\n",
        "\n",
        "    print(f\"{temperature} -> {input_data}:\", y_quantized)\n",
        "    temperature += 0.5\n",
        "\n",
        "accuracy = correct_predictions / total_predictions\n",
        "avg_time = total_time / total_predictions\n",
        "print(f\"Accuracy: {accuracy*100}\")\n",
        "print(f\"Tempo médio de execução: {avg_time:.5f} segundos\")"
      ],
      "metadata": {
        "colab": {
          "base_uri": "https://localhost:8080/"
        },
        "id": "uwtoNsGPNJyk",
        "outputId": "269856a7-eafa-4d3b-8c49-d40e2bf23ecb"
      },
      "execution_count": 25,
      "outputs": [
        {
          "output_type": "stream",
          "name": "stdout",
          "text": [
            "10 -> [[-2.2426891]]: [0]\n",
            "10.5 -> [[-2.1313593]]: [0]\n",
            "11.0 -> [[-2.0200298]]: [0]\n",
            "11.5 -> [[-1.9087]]: [0]\n",
            "12.0 -> [[-1.7973702]]: [0]\n",
            "12.5 -> [[-1.6860405]]: [0]\n",
            "13.0 -> [[-1.5747107]]: [0]\n",
            "13.5 -> [[-1.463381]]: [0]\n",
            "14.0 -> [[-1.3520513]]: [0]\n",
            "14.5 -> [[-1.2407216]]: [0]\n",
            "15.0 -> [[-1.1293919]]: [0]\n",
            "15.5 -> [[-1.0180621]]: [0]\n",
            "16.0 -> [[-0.9067324]]: [0]\n",
            "16.5 -> [[-0.79540265]]: [0]\n",
            "17.0 -> [[-0.6840729]]: [0]\n",
            "17.5 -> [[-0.5727432]]: [0]\n",
            "18.0 -> [[-0.46141344]]: [0]\n",
            "18.5 -> [[-0.3500837]]: [0]\n",
            "19.0 -> [[-0.23875399]]: [0]\n",
            "19.5 -> [[-0.12742426]]: [0]\n",
            "20.0 -> [[-0.01609452]]: [1]\n",
            "20.5 -> [[0.09523521]]: [1]\n",
            "21.0 -> [[0.20656495]]: [1]\n",
            "21.5 -> [[0.31789467]]: [1]\n",
            "22.0 -> [[0.4292244]]: [1]\n",
            "22.5 -> [[0.54055417]]: [1]\n",
            "23.0 -> [[0.6518839]]: [1]\n",
            "23.5 -> [[0.76321363]]: [1]\n",
            "24.0 -> [[0.87454337]]: [1]\n",
            "24.5 -> [[0.9858731]]: [1]\n",
            "25.0 -> [[1.0972028]]: [1]\n",
            "25.5 -> [[1.2085326]]: [2]\n",
            "26.0 -> [[1.3198622]]: [2]\n",
            "26.5 -> [[1.431192]]: [2]\n",
            "27.0 -> [[1.5425217]]: [2]\n",
            "27.5 -> [[1.6538515]]: [2]\n",
            "28.0 -> [[1.7651812]]: [2]\n",
            "28.5 -> [[1.876511]]: [2]\n",
            "29.0 -> [[1.9878407]]: [2]\n",
            "29.5 -> [[2.0991704]]: [2]\n",
            "30.0 -> [[2.2105002]]: [2]\n",
            "Accuracy: 100.0\n",
            "Tempo médio de execução: 0.00026 segundos\n"
          ]
        }
      ]
    },
    {
      "cell_type": "code",
      "source": [
        "# imprime o número de neurônios em cada camada\n",
        "for layer in model.layers:\n",
        "    print(layer.output_shape[1])"
      ],
      "metadata": {
        "colab": {
          "base_uri": "https://localhost:8080/"
        },
        "id": "YmdMxhc3FAfk",
        "outputId": "a29f1e11-e24a-4620-a4d5-16af7689940e"
      },
      "execution_count": 24,
      "outputs": [
        {
          "output_type": "stream",
          "name": "stdout",
          "text": [
            "5\n",
            "3\n"
          ]
        }
      ]
    },
    {
      "cell_type": "markdown",
      "source": [
        "Testes com geração de modelo quantizado"
      ],
      "metadata": {
        "id": "xgt4VIr7DUMi"
      }
    },
    {
      "cell_type": "code",
      "source": [
        "# ref: https://github.com/tensorflow/tflite-micro/blob/main/tensorflow/lite/micro/examples/hello_world/quantization/ptq.py\n",
        "def convert_quantized_tflite_model(source_model_dir, x_values):\n",
        "  \"\"\"Convert the save TF model to tflite model, then save it as .tflite\n",
        "    flatbuffer format\n",
        "    Args:\n",
        "        source_model_dir (tf.keras.Model): the trained hello_world flaot Model dir\n",
        "        x_train (numpy.array): list of the training data\n",
        "    Returns:\n",
        "        The converted model in serialized format.\n",
        "  \"\"\"\n",
        "\n",
        "  # Convert the model to the TensorFlow Lite format with quantization\n",
        "  def representative_dataset(num_samples=500):\n",
        "    for i in range(num_samples):\n",
        "      yield [x_values[i].reshape(1, 1)]\n",
        "  model = load_model(f'{MODEL_NAME}.h5')\n",
        "  converter = tf.lite.TFLiteConverter.from_keras_model(model)\n",
        "  converter.optimizations = [tf.lite.Optimize.DEFAULT]\n",
        "  converter.target_spec.supported_ops = [tf.lite.OpsSet.TFLITE_BUILTINS_INT8]\n",
        "  converter.inference_input_type = tf.int8\n",
        "  converter.inference_output_type = tf.int8\n",
        "  converter.representative_dataset = representative_dataset\n",
        "  tflite_model = converter.convert()\n",
        "  return tflite_model\n"
      ],
      "metadata": {
        "id": "kJgUcFDoNHwc"
      },
      "execution_count": 38,
      "outputs": []
    },
    {
      "cell_type": "code",
      "source": [
        "quantized_tflite_model = convert_quantized_tflite_model(\n",
        "      './temp_model.h5', \n",
        "      X.astype(np.float32)\n",
        ")\n",
        "with open(f'{MODEL_NAME}_quantized.tflite', 'wb') as f:\n",
        "    f.write(quantized_tflite_model)"
      ],
      "metadata": {
        "colab": {
          "base_uri": "https://localhost:8080/"
        },
        "id": "BOEjpzTfBxCq",
        "outputId": "7ea5d360-bd2f-4942-b00c-a62385186ad3"
      },
      "execution_count": 41,
      "outputs": [
        {
          "output_type": "stream",
          "name": "stderr",
          "text": [
            "WARNING:absl:Found untraced functions such as _update_step_xla while saving (showing 1 of 1). These functions will not be directly callable after loading.\n",
            "/usr/local/lib/python3.10/dist-packages/tensorflow/lite/python/convert.py:789: UserWarning: Statistics for quantized inputs were expected, but not specified; continuing anyway.\n",
            "  warnings.warn(\"Statistics for quantized inputs were expected, but not \"\n"
          ]
        }
      ]
    }
  ]
}